{
 "cells": [
  {
   "attachments": {},
   "cell_type": "markdown",
   "metadata": {},
   "source": [
    "# Testing Environment for Depixelizing Pixel Art\n",
    "\n",
    "- The Kopf & Lischinski Algorithm requires a lot of different substeps that we wanted to test out individually to help with debugging"
   ]
  },
  {
   "cell_type": "code",
   "execution_count": 3,
   "metadata": {
    "vscode": {
     "languageId": "python"
    }
   },
   "outputs": [],
   "source": [
    "import cv2\n",
    "import matplotlib.pyplot as plt\n",
    "import networkx as nx\n",
    "import numpy as np\n",
    "from similarityGraph import *\n",
    "\n",
    "%matplotlib inline"
   ]
  },
  {
   "attachments": {},
   "cell_type": "markdown",
   "metadata": {},
   "source": [
    "## Testing Creation of Similarty Graph and Removal of Diagonals"
   ]
  },
  {
   "cell_type": "code",
   "execution_count": 4,
   "metadata": {
    "vscode": {
     "languageId": "python"
    }
   },
   "outputs": [
    {
     "data": {
      "image/png": "[encoded data removed]",
      "text/plain": [
       "<Figure size 432x288 with 1 Axes>"
      ]
     },
     "metadata": {},
     "output_type": "display_data"
    }
   ],
   "source": [
    "boo_arm_file = './inputs/boo_arm.png'\n",
    "boo_arm = cv2.imread(boo_arm_file)\n",
    "\n",
    "graph = create_similarity_graph(boo_arm)\n",
    "graph = remove_diagonals(graph, boo_arm)\n",
    "\n",
    "nx.draw_networkx(graph)"
   ]
  },
  {
   "attachments": {},
   "cell_type": "markdown",
   "metadata": {},
   "source": [
    "## Testing Curves Score"
   ]
  },
  {
   "cell_type": "code",
   "execution_count": 5,
   "metadata": {
    "vscode": {
     "languageId": "python"
    }
   },
   "outputs": [
    {
     "name": "stdout",
     "output_type": "stream",
     "text": [
      "[1 7]\n"
     ]
    }
   ],
   "source": [
    "boo_file = './inputs/boo.png'\n",
    "boo = cv2.imread(boo_file)\n",
    "\n",
    "graph = create_similarity_graph(boo)\n",
    "length = getCurvesScore((9, 5), graph)\n",
    "\n",
    "print(length)\n",
    "assert length[0] == 1\n",
    "assert length[1] == 7"
   ]
  },
  {
   "attachments": {},
   "cell_type": "markdown",
   "metadata": {},
   "source": [
    "## Testing Island Score"
   ]
  },
  {
   "cell_type": "code",
   "execution_count": 10,
   "metadata": {
    "vscode": {
     "languageId": "python"
    }
   },
   "outputs": [
    {
     "name": "stdout",
     "output_type": "stream",
     "text": [
      "[0 5]\n"
     ]
    }
   ],
   "source": [
    "island_path = './inputs/test_island.png'\n",
    "island_img = cv2.imread(island_path)\n",
    "\n",
    "graph = create_similarity_graph(island_img)\n",
    "islandWeights = getIslandsScore((1, 2), graph)\n",
    "\n",
    "print(islandWeights)\n",
    "assert islandWeights[0] == 0\n",
    "assert islandWeights[1] == 5"
   ]
  },
  {
   "attachments": {},
   "cell_type": "markdown",
   "metadata": {},
   "source": [
    "## Test Sparse Pixel Scores"
   ]
  },
  {
   "cell_type": "code",
   "execution_count": 11,
   "metadata": {
    "vscode": {
     "languageId": "python"
    }
   },
   "outputs": [
    {
     "name": "stdout",
     "output_type": "stream",
     "text": [
      "[46 14]\n"
     ]
    }
   ],
   "source": [
    "sparse_file = './inputs/test_sparse.png'\n",
    "sparse_img = cv2.imread(sparse_file)\n",
    "\n",
    "graph = create_similarity_graph(sparse_img)\n",
    "sparsePixels = getSparsePixelsScore((3, 3), graph)\n",
    "\n",
    "print(sparsePixels)\n",
    "assert sparsePixels[0] == 46\n",
    "assert sparsePixels[1] == 14"
   ]
  }
 ],
 "metadata": {
  "kernelspec": {
   "display_name": "Python 3 (ipykernel)",
   "language": "python",
   "name": "python3"
  },
  "orig_nbformat": 4
 },
 "nbformat": 4,
 "nbformat_minor": 2
}
