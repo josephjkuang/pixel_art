{
 "cells": [
  {
   "cell_type": "code",
   "execution_count": null,
   "id": "16835fec",
   "metadata": {},
   "outputs": [],
   "source": [
    "import numpy as np"
   ]
  },
  {
   "cell_type": "markdown",
   "id": "fb8c5b29",
   "metadata": {},
   "source": [
    "# Option 1: General Image Upscaling \n",
    "Apply linear filtering to upsample images. \n",
    "Choose one of:\n",
    "- Nearest-Neighbor\n",
    "- Bicubic\n",
    "- Lancosz"
   ]
  },
  {
   "cell_type": "code",
   "execution_count": null,
   "id": "77557151",
   "metadata": {},
   "outputs": [],
   "source": []
  },
  {
   "cell_type": "markdown",
   "id": "4fb5367b",
   "metadata": {},
   "source": [
    "# Option 2: Pixel Art Upscaling Techniques\n",
    "Emulation technique that is based on a fixed integer factor. \n",
    "Choose one of:\n",
    "- EPX\n",
    "- hqx"
   ]
  },
  {
   "cell_type": "code",
   "execution_count": null,
   "id": "29ce9dc3",
   "metadata": {},
   "outputs": [],
   "source": []
  },
  {
   "cell_type": "markdown",
   "id": "d6453578",
   "metadata": {},
   "source": [
    "# Option 3 Kopf and Lischinski Algorithm\n",
    "Milestone steps to upscale 8-bit pixel art vectors:\n",
    "- Milestone 1: Reshaping the pixels using the heuristics to make sure that they are grouped with their neighbors by creating a similarity graph\n",
    "- Milestone 2: Create a simplified Voronoi graph from a similarity graph\n",
    "- Milestone 3: Initializing spline curves from the Voronoi graph\n",
    "- Milestone 4: Optimizing spline curves by improving locations of control point\n",
    "- Milestone 5: Rendering\n"
   ]
  },
  {
   "cell_type": "code",
   "execution_count": null,
   "id": "8f415797",
   "metadata": {},
   "outputs": [],
   "source": []
  }
 ],
 "metadata": {
  "kernelspec": {
   "display_name": "Python 3 (ipykernel)",
   "language": "python",
   "name": "python3"
  },
  "language_info": {
   "codemirror_mode": {
    "name": "ipython",
    "version": 3
   },
   "file_extension": ".py",
   "mimetype": "text/x-python",
   "name": "python",
   "nbconvert_exporter": "python",
   "pygments_lexer": "ipython3",
   "version": "3.8.5"
  }
 },
 "nbformat": 4,
 "nbformat_minor": 5
}
