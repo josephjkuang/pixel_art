{
 "cells": [
  {
   "cell_type": "markdown",
   "id": "ea054c52",
   "metadata": {},
   "source": [
    "# Pixel Art Upscale\n",
    "Graphics in past video games were represented at the pixel level. This form of digital art is known as pixel art. This artwork was usually arranged by hand at the pixel level because of the hardware constraints at the time–this is opposed to the standard now of doscaling the high-resolution images. \n",
    "\n",
    "We will be attempting to upscaling some iconic pixel art such as mario characters and other classic video game characters. We will start with some older implementation methods that have limitations on the magnification factor and we will finish with the most refined implementation developed by Johannes Kopf and Dani Lischinski. \n",
    "\n",
    "The implementation by Kopf and Lischinski is most definitely the most advanced algorithm of the 3 that we are attempting to implement. Part of the difficulty is that we do not know what heuristics they are using so we will have to experiment with these numbers on are own. Additionally, have a low number of linear transformations needed, opposed to Kopf and"
   ]
  },
  {
   "cell_type": "code",
   "execution_count": null,
   "id": "de3200c4",
   "metadata": {},
   "outputs": [],
   "source": [
    "import numpy as np"
   ]
  },
  {
   "cell_type": "markdown",
   "id": "6dd45d30",
   "metadata": {},
   "source": [
    "# Option 1: General Image Upscaling \n",
    "Apply linear filtering to upsample images. \n",
    "Choose one of:\n",
    "- Nearest-Neighbor\n",
    "- Bicubic\n",
    "- Lancosz"
   ]
  },
  {
   "cell_type": "code",
   "execution_count": null,
   "id": "6d2e056d",
   "metadata": {},
   "outputs": [],
   "source": []
  },
  {
   "cell_type": "markdown",
   "id": "392b55a6",
   "metadata": {},
   "source": [
    "# Option 2: Pixel Art Upscaling Techniques\n",
    "Emulation technique that is based on a fixed integer factor. \n",
    "Choose one of:\n",
    "- EPX\n",
    "- hqx"
   ]
  },
  {
   "cell_type": "code",
   "execution_count": null,
   "id": "831b51fb",
   "metadata": {},
   "outputs": [],
   "source": []
  },
  {
   "cell_type": "markdown",
   "id": "0cbebc9f",
   "metadata": {},
   "source": [
    "# Option 3 Kopf and Lischinski Algorithm\n",
    "Milestone steps to upscale 8-bit pixel art vectors:\n",
    "- Milestone 1: Reshaping the pixels using the heuristics to make sure that they are grouped with their neighbors by creating a similarity graph\n",
    "- Milestone 2: Create a simplified Voronoi graph from a similarity graph\n",
    "- Milestone 3: Initializing spline curves from the Voronoi graph\n",
    "- Milestone 4: Optimizing spline curves by improving locations of control point\n",
    "- Milestone 5: Rendering\n"
   ]
  },
  {
   "cell_type": "code",
   "execution_count": null,
   "id": "104dd6c0",
   "metadata": {},
   "outputs": [],
   "source": []
  }
 ],
 "metadata": {
  "kernelspec": {
   "display_name": "Python 3 (ipykernel)",
   "language": "python",
   "name": "python3"
  },
  "language_info": {
   "codemirror_mode": {
    "name": "ipython",
    "version": 3
   },
   "file_extension": ".py",
   "mimetype": "text/x-python",
   "name": "python",
   "nbconvert_exporter": "python",
   "pygments_lexer": "ipython3",
   "version": "3.8.5"
  }
 },
 "nbformat": 4,
 "nbformat_minor": 5
}
