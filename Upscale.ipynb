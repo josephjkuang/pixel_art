{
 "cells": [
  {
   "attachments": {},
   "cell_type": "markdown",
   "id": "ca6c2f74",
   "metadata": {},
   "source": [
    "# Pixel Art Upscale\n",
    "Graphics in past video games were represented at the pixel level. This form of digital art is known as pixel art. This artwork was usually arranged by hand at the pixel level because of the hardware constraints at the time–this is opposed to the standard now of doscaling the high-resolution images. \n",
    "\n",
    "We will be attempting to upscaling some iconic pixel art such as mario characters and other classic video game characters. We will start with some older implementation methods that have limitations on the magnification factor and we will finish with the most refined implementation developed by **Johannes Kopf and Dani Lischinski**. \n",
    "\n",
    "The implementation by Kopf and Lischinski is most definitely the most advanced algorithm of the 3 that we are attempting to implement. Part of the difficulty is that we do not know what heuristics they are using so we will have to experiment with these numbers on are own. Additionally, have a low number of linear transformations needed, opposed to Kopf and Lischinski's which will require us to reshape the pixels, produce a Voroni graph, initialize spline curves, optimize the spline curves for control points, and render the image based off pixel-color averages."
   ]
  },
  {
   "attachments": {},
   "cell_type": "markdown",
   "id": "8f6e7951",
   "metadata": {},
   "source": [
    "# Install packages"
   ]
  },
  {
   "cell_type": "code",
   "execution_count": null,
   "id": "b7d78d51",
   "metadata": {},
   "outputs": [],
   "source": [
    "%conda install --yes --prefix {sys.prefix} networkx"
   ]
  },
  {
   "cell_type": "code",
   "execution_count": null,
   "id": "5ab127f2",
   "metadata": {},
   "outputs": [],
   "source": [
    "import epx\n",
    "import cv2\n",
    "import networkx as nx\n",
    "import numpy as np\n",
    "import sys\n",
    "import utils\n",
    "import matplotlib.pyplot as plt\n",
    "\n",
    "%matplotlib inline"
   ]
  },
  {
   "attachments": {},
   "cell_type": "markdown",
   "id": "dc923bc4",
   "metadata": {},
   "source": [
    "# Option 1: Bicubic Upscaling \n",
    "Apply linear filtering to upsample images"
   ]
  },
  {
   "cell_type": "code",
   "execution_count": null,
   "id": "4babd66d",
   "metadata": {},
   "outputs": [],
   "source": []
  },
  {
   "attachments": {},
   "cell_type": "markdown",
   "id": "ebde9e03",
   "metadata": {},
   "source": [
    "# Option 2: Pixel Art Upscaling Techniques\n",
    "Emulation technique that is based on a fixed integer factor EPX.\n",
    "\n",
    "EPX is a naive solution that increases the resolution of an image by a factor of two using a straightforward approach. At the beginning, every pixel in the original image is replaced by a 2x2 block of pixels with the same color. However, if the adjacent pixels to the left and above the current pixel in the original image have the same color, that color is used to replace the top-left pixel in the 2x2 block. The same logic applies to the other three corners of the block. There are a few more additional constraints that deal with not doing replacement if 3 of the surrounding pixels are equivalent.\n",
    "\n",
    "Further Detailing on Algorithm:\n",
    "- https://en.wikipedia.org/wiki/Pixel-art_scaling_algorithms#:~:text=Eric's%20Pixel%20Expansion%20(EPX)%20is,or%20less%20double%20that%20resolution."
   ]
  },
  {
   "cell_type": "code",
   "execution_count": null,
   "id": "9766f711",
   "metadata": {},
   "outputs": [],
   "source": [
    "yoshi_path = 'inputs/yoshi.png'\n",
    "yoshi = cv2.imread(yoshi_path)\n",
    "\n",
    "yoshi_2x = epx.upsample(yoshi)\n",
    "yoshi_4x = epx.upsample(yoshi_2x)\n",
    "yoshi_8x = epx.upsample(yoshi_4x)\n",
    "utils.display_upscales(\"Yoshi\", [yoshi, yoshi_2x, yoshi_4x, yoshi_8x])"
   ]
  },
  {
   "attachments": {},
   "cell_type": "markdown",
   "id": "afcb1c6f",
   "metadata": {},
   "source": [
    "# Option 3 Kopf and Lischinski Algorithm\n",
    "Milestone steps to upscale 8-bit pixel art vectors:\n",
    "- Milestone 1: Reshaping the pixels using the heuristics to make sure that they are grouped with their neighbors by creating a similarity graph\n",
    "- Milestone 2: Create a simplified Voronoi graph from a similarity graph\n",
    "- Milestone 3: Initializing spline curves from the Voronoi graph\n",
    "- Milestone 4: Optimizing spline curves by improving locations of control point\n",
    "- Milestone 5: Rendering\n"
   ]
  },
  {
   "cell_type": "code",
   "execution_count": 58,
   "id": "470f4c6a",
   "metadata": {},
   "outputs": [],
   "source": [
    "# Milestone 1: Reshaping the pixels using the heuristics to make sure that they are grouped with their neighbors\n",
    "def create_similarity_graph(image):\n",
    "    # Create a similarity graph from the input image using heuristics to group similar pixels together.\n",
    "    img_yuv = cv2.cvtColor(image, cv2.COLOR_BGR2YUV)\n",
    "    graph = nx.Graph()\n",
    "    height, width, _ = img_yuv.shape\n",
    "\n",
    "    for y1 in range(height):\n",
    "        for x1 in range(width):\n",
    "            # Adding the nodes to the graph\n",
    "            corners = [(x1, y1), (x1 + 1, y1), (x1, y1 + 1), (x1 + 1, y1 + 1)]\n",
    "            graph.add_node((x1, y1), value=image[y1, x1, :], corners=corners)\n",
    "\n",
    "            # Adding the neighbor nodes (8 / 2 = 4 neighbors to ignore repeats)\n",
    "            neighbors = [(x1 + 1, y1), (x1, y1 + 1) , (x1 + 1, y1 + 1), (x1 + 1, y1 - 1)]\n",
    "            for neighbor in neighbors:\n",
    "                x2, y2 = neighbor\n",
    "                if x2 < width and y2 < height and y2 >= 0 and color_equals(image, x1, y1, x2, y2):\n",
    "                    # Only add neighbors that are in the same color range\n",
    "                    graph.add_edge((x1, y1), (x2, y2))  \n",
    "\n",
    "    return graph\n",
    "\n",
    "# Remove diagonals if the square is fully connected\n",
    "def remove_diagonals(graph, image): \n",
    "    height, width, _ = image.shape\n",
    "\n",
    "    for y in range(height - 1):\n",
    "        for x in range(width - 1):\n",
    "            corners = graph.nodes[(x, y)]['corners']\n",
    "\n",
    "            connections = 0\n",
    "            for i, node1 in enumerate(corners):\n",
    "                for j, node2 in enumerate(corners[i + 1:]):\n",
    "                    if graph.has_edge(node1, node2):\n",
    "                        connections += 1\n",
    "            \n",
    "            if connections == 6:\n",
    "                graph.remove_edges_from([((x, y), (x + 1, x + 1)), ((x + 1, x), (x, y + 1))])\n",
    "            elif connections == 2 and graph.has_edge((x, y), (x + 1, y + 1)) and graph.has_edge(( x+ 1, y), (x, y + 1)):\n",
    "                remove_diagonal_gestalt((x, y), graph)\n",
    "\n",
    "    return graph\n",
    "\n",
    "# Remove a single diagonal if the square contains only diagonal connections\n",
    "def remove_diagonal_gestalt(node, graph):\n",
    "    # Weights for diagonals where weights[0] is the weight for (x, y) -> (x + 1, y + 1)\n",
    "    # and weights[1] is the weight for (x + 1, y) -> (x, y + 1)\n",
    "    x, y = node\n",
    "    weights = np.array([0, 0])\n",
    "    weights += getCurvesScore(node, graph)\n",
    "    weights += getSparsePixelsScore(node, graph)\n",
    "    weights += getIslandsScore(node, graph)\n",
    "\n",
    "    if weights[0] > weights[1]:\n",
    "        graph.remove_edge((x + 1, y), (x, y + 1))\n",
    "    elif weights[0] < weights[1]:\n",
    "        graph.remove_edge((x, y), (x + 1, y + 1))\n",
    "    else:\n",
    "        graph.remove_edges_from([((x, y), (x + 1, y + 1)), ((x + 1, y), (x, y + 1))])\n",
    "\n",
    "def getCurvesScore(node, graph):\n",
    "    x, y = node\n",
    "    return np.array([findCurveLength(node, (y + 1, x + 1),  graph), findCurveLength((y + 1, x), (y - 1, x + 1), graph)])\n",
    "\n",
    "def findCurveLength(node1, node2, graph):\n",
    "    current = None\n",
    "    queue = [node1]\n",
    "    visited = set()\n",
    "    count = 0\n",
    "\n",
    "    # check for base case where both nodes have valence != 2\n",
    "    node1Valence = graph.degree(node1)\n",
    "    node2Valence = graph.degree(node2)\n",
    "\n",
    "    if node1Valence != 2 and node2Valence != 2:\n",
    "        return 1\n",
    "    \n",
    "    while len(queue) != 0:\n",
    "        current = queue.pop(0)\n",
    "        cur_edges = graph.edges(current)\n",
    "\n",
    "        visited.add(current)\n",
    "\n",
    "        for edge in cur_edges:\n",
    "            neighbor = edge[1]\n",
    "            neighbor_edges = graph.edges(neighbor)\n",
    "\n",
    "            if len(neighbor_edges) == 2 and neighbor not in visited:\n",
    "                queue.append(neighbor)\n",
    "                count += 1\n",
    "            elif len(neighbor_edges) == 1:\n",
    "                count += 1\n",
    "\n",
    "    print(visited)\n",
    "    return count\n",
    "                \n",
    "    #         if neighbor not in visited:\n",
    "    #             queue.append(neighbor)\n",
    "    #     elif len(cur_edges) == 1:\n",
    "    #         visited.append(current)\n",
    "\n",
    "    # return len(visited) - 1\n",
    "\n",
    "def getSparsePixelsScore(node, graph):\n",
    "    x, y = node\n",
    "    component1 = nx.ego_graph(graph, node, radius = 4).nodes()\n",
    "    component2 = nx.ego_graph(graph, (x + 1, y), radius = 4).nodes()\n",
    "\n",
    "    return np.array([len(component1), len(component2)])\n",
    "\n",
    "def getIslandsScore(node, graph):\n",
    "    x, y = node\n",
    "    weight = np.array([0, 0])\n",
    "\n",
    "    if len(graph.edges((x, y))) == 1 or len(graph.edges((x + 1, y + 1))) == 1:\n",
    "        weight[0] += 5\n",
    "    if len(graph.edges((x + 1, y))) == 1 or len(graph.edges((x, y + 1))) == 1:\n",
    "        weight[1] += 5\n",
    "\n",
    "    return weight\n",
    "\n",
    "# Check if the pixels are in equality range according to the Kopf-Lischinski algorithm \n",
    "def color_equals(image, x1, y1, x2, y2):\n",
    "    y, u, v = cv2.split(image.astype(np.int16))\n",
    "\n",
    "    if 48.0 / 255.0 < abs(y[y1, x1] - y[y2, x2]):\n",
    "        return False\n",
    "    if 7.0 / 255.0 < abs(u[y1, x1] - u[y2, x2]):\n",
    "        return False\n",
    "    if 6.0 / 255.0 < abs(v[y1, x1] - v[y2, x2]):\n",
    "        return False\n",
    "    return True\n"
   ]
  },
  {
   "attachments": {},
   "cell_type": "markdown",
   "id": "e97d3073",
   "metadata": {},
   "source": [
    "# Run all the helpers"
   ]
  },
  {
   "cell_type": "code",
   "execution_count": null,
   "id": "61ce1342",
   "metadata": {},
   "outputs": [],
   "source": [
    "# Convert to grayscale\n",
    "boo_file = './inputs/test2.png'\n",
    "boo = cv2.imread(boo_file)\n",
    "\n",
    "graph = create_similarity_graph(boo)\n",
    "graph = remove_diagonals(graph, boo)\n",
    "\n",
    "nx.draw_networkx(graph)\n",
    "\n"
   ]
  },
  {
   "cell_type": "code",
   "execution_count": 59,
   "id": "42cbf320",
   "metadata": {},
   "outputs": [
    {
     "name": "stdout",
     "output_type": "stream",
     "text": [
      "[1 7]\n",
      "[0 0]\n",
      "[50 14]\n"
     ]
    }
   ],
   "source": [
    "boo_file = './inputs/test4.png'\n",
    "boo = cv2.imread(boo_file)\n",
    "graph = create_similarity_graph(boo)\n",
    "# graph = remove_diagonals(graph, boo)\n",
    "# length = getCurvesScore((5, 9), graph)\n",
    "islandWeights = getIslandsScore((1, 2), graph)\n",
    "sparsePixels = getSparsePixelsScore((3, 3), graph)\n",
    "print(length)\n",
    "print(islandWeights)\n",
    "print(sparsePixels)"
   ]
  },
  {
   "cell_type": "code",
   "execution_count": null,
   "id": "0e874b82",
   "metadata": {},
   "outputs": [],
   "source": [
    "boo_file = './inputs/boo.png'\n",
    "boo = cv2.imread(boo_file)\n",
    "plt.figure()\n",
    "plt.imshow(boo[5 : 6, 10: 11, :])"
   ]
  }
 ],
 "metadata": {
  "kernelspec": {
   "display_name": "Python 3 (ipykernel)",
   "language": "python",
   "name": "python3"
  },
  "language_info": {
   "codemirror_mode": {
    "name": "ipython",
    "version": 3
   },
   "file_extension": ".py",
   "mimetype": "text/x-python",
   "name": "python",
   "nbconvert_exporter": "python",
   "pygments_lexer": "ipython3",
   "version": "3.9.13"
  }
 },
 "nbformat": 4,
 "nbformat_minor": 5
}
