{
 "cells": [
  {
   "attachments": {},
   "cell_type": "markdown",
   "id": "ca6c2f74",
   "metadata": {},
   "source": [
    "# Pixel Art Upscale\n",
    "\n",
    "Graphics in past video games were represented at the pixel level. This form of digital art is known as pixel art. This artwork was usually arranged by hand at the pixel level because of the hardware constraints at the time–this is opposed to the standard now of doscaling the high-resolution images.\n",
    "\n",
    "We will be attempting to upscaling some iconic pixel art such as mario characters and other classic video game characters. We will start with some older implementation methods that have limitations on the magnification factor and we will finish with the most refined implementation developed by **Johannes Kopf and Dani Lischinski**.\n",
    "\n",
    "The implementation by Kopf and Lischinski is most definitely the most advanced algorithm of the 3 that we are attempting to implement. Part of the difficulty is that we do not know what heuristics they are using so we will have to experiment with these numbers on are own. Additionally, have a low number of linear transformations needed, opposed to Kopf and Lischinski's which will require us to reshape the pixels, produce a Voroni graph, initialize spline curves, optimize the spline curves for control points, and render the image based off pixel-color averages.\n"
   ]
  },
  {
   "attachments": {},
   "cell_type": "markdown",
   "id": "8f6e7951",
   "metadata": {},
   "source": [
    "# Install packages\n"
   ]
  },
  {
   "cell_type": "code",
   "execution_count": null,
   "id": "5ab127f2",
   "metadata": {},
   "outputs": [],
   "source": [
    "from bilinear import *\n",
    "from epx import *\n",
    "from curves import *\n",
    "from collapse import *\n",
    "from nearestNeighbors import *\n",
    "from render import *\n",
    "from similarityGraph import *\n",
    "from utils import * \n",
    "from voronoi import *\n",
    "\n",
    "import cv2\n",
    "import numpy as np\n",
    "import networkx as nx\n",
    "\n",
    "%matplotlib inline"
   ]
  },
  {
   "attachments": {},
   "cell_type": "markdown",
   "id": "dc923bc4",
   "metadata": {},
   "source": [
    "# Option 1: General Upscaling Techniques\n",
    "\n",
    "Apply linear filtering to upsample images\n",
    "\n",
    "\n",
    "The “classical” approach to image upsampling is to apply linear filters derived either from analytical interpolation or from signal processing theory. Examples include filters such as Nearest-Neighbor, Bicubic, and Lancosz [Wolberg 1990]. These filters make no assumptions about the underlying data, other than that it is essentially band-limited. As a consequence, images upsampled in this manner typically suffer from blurring of sharp edges and ringing artifacts. Here we implement two general upscaling techniques including Nearest-Nieghbor and Bilinear.\n",
    "\n",
    "Further Detailing on Algorithms:\n",
    "- https://en.wikipedia.org/wiki/Nearest-neighbor_interpolation\n",
    "- https://en.wikipedia.org/wiki/Bilinear_interpolation\n"
   ]
  },
  {
   "cell_type": "code",
   "execution_count": null,
   "id": "0d87520e",
   "metadata": {},
   "outputs": [],
   "source": [
    "path = 'inputs/mario_yoshi.png'\n",
    "image = cv2.imread(path)\n",
    "\n",
    "image_2x = nearestNeighborsInterpolation(image, 2)\n",
    "image_4x = nearestNeighborsInterpolation(image_2x, 4)\n",
    "image_8x = nearestNeighborsInterpolation(image_4x, 8)\n",
    "display_upscales(\"Nearest Neighbors\", [image, image_2x, image_4x, image_8x])"
   ]
  },
  {
   "cell_type": "code",
   "execution_count": null,
   "id": "9d489a01",
   "metadata": {},
   "outputs": [],
   "source": [
    "path = 'inputs/mario_yoshi.png'\n",
    "image = cv2.imread(path)\n",
    "\n",
    "image_2x = bilinearInterpolation(image, 2)\n",
    "image_4x = bilinearInterpolation(image, 4)\n",
    "image_8x = bilinearInterpolation(image, 8)\n",
    "display_upscales(\"Bilinear\", [image, image_2x, image_4x, image_8x])"
   ]
  },
  {
   "attachments": {},
   "cell_type": "markdown",
   "id": "ebde9e03",
   "metadata": {},
   "source": [
    "# Option 2: Pixel Art Upscaling Techniques\n",
    "\n",
    "Emulation technique that is based on a fixed integer factor EPX.\n",
    "\n",
    "EPX is a naive solution that increases the resolution of an image by a factor of two using a straightforward approach. At the beginning, every pixel in the original image is replaced by a 2x2 block of pixels with the same color. However, if the adjacent pixels to the left and above the current pixel in the original image have the same color, that color is used to replace the top-left pixel in the 2x2 block. The same logic applies to the other three corners of the block. There are a few more additional constraints that deal with not doing replacement if 3 of the surrounding pixels are equivalent.\n",
    "\n",
    "Further Detailing on Algorithm:\n",
    "\n",
    "- https://en.wikipedia.org/wiki/Pixel-art_scaling_algorithms#:~:text=Eric's%20Pixel%20Expansion%20(EPX)%20is,or%20less%20double%20that%20resolution.\n"
   ]
  },
  {
   "cell_type": "code",
   "execution_count": null,
   "id": "9766f711",
   "metadata": {},
   "outputs": [],
   "source": [
    "path = 'inputs/mario_yoshi.png'\n",
    "image = cv2.imread(path)\n",
    "\n",
    "image_2x = epx_upsample(image)\n",
    "image_4x = epx_upsample(image_2x)\n",
    "image_8x = epx_upsample(image_4x)\n",
    "display_upscales(\"EPX\", [image, image_2x, image_4x, image_8x])"
   ]
  },
  {
   "attachments": {},
   "cell_type": "markdown",
   "id": "afcb1c6f",
   "metadata": {},
   "source": [
    "# Option 3 Belser Gluszak Kuang and Moon Implementation (Adapted from Kopf and Lischinski Algorithm)\n",
    "\n",
    "Milestone steps to upscale 8-bit pixel art vectors:\n",
    "\n",
    "- Milestone 1: Reshaping the pixels using the heuristics to make sure that they are grouped with their neighbors by creating a similarity graph\n",
    "- Milestone 2: Create a simplified Voronoi graph from a similarity graph\n",
    "- Milestone 3: Initializing spline curves from the Voronoi graph\n",
    "- Milestone 4: Optimizing spline curves by improving locations of control point\n",
    "- Milestone 5: Rendering\n"
   ]
  },
  {
   "cell_type": "code",
   "execution_count": null,
   "id": "4846814d",
   "metadata": {},
   "outputs": [],
   "source": [
    "path = './inputs/mario_yoshi.png'\n",
    "image = cv2.imread(path)\n",
    "\n",
    "graph = create_similarity_graph(image)\n",
    "graph = remove_diagonals(graph, image)\n",
    "pos = {(x,y):(x, -y) for x, y in graph.nodes()}\n",
    "nx.draw_networkx(graph, pos=pos, with_labels=True)\n"
   ]
  },
  {
   "cell_type": "code",
   "execution_count": null,
   "id": "37fee90b",
   "metadata": {},
   "outputs": [],
   "source": [
    "height, width, _ = image.shape\n",
    "graph = add_midpoints(graph)\n",
    "points = np.array([node for node in graph.nodes()])\n",
    "vor = voronoi(points, np.array([-1, width, -1, height]))\n",
    "\n",
    "point_to_region = get_region_point_indices(vor)\n",
    "\n",
    "graph_voronoi(width, height, vor, graph, point_to_region)\n",
    "segments = get_collapsed_segments(graph, vor, point_to_region, width, height)\n"
   ]
  },
  {
   "cell_type": "code",
   "execution_count": null,
   "id": "aa763711",
   "metadata": {},
   "outputs": [],
   "source": [
    "curves = smooth_image(segments, width, height)"
   ]
  },
  {
   "cell_type": "code",
   "execution_count": null,
   "id": "a64d10b2",
   "metadata": {},
   "outputs": [],
   "source": [
    "render_image(curves, width, height, graph)"
   ]
  }
 ],
 "metadata": {
  "kernelspec": {
   "display_name": "Python 3 (ipykernel)",
   "language": "python",
   "name": "python3"
  },
  "language_info": {
   "codemirror_mode": {
    "name": "ipython",
    "version": 3
   },
   "file_extension": ".py",
   "mimetype": "text/x-python",
   "name": "python",
   "nbconvert_exporter": "python",
   "pygments_lexer": "ipython3",
   "version": "3.9.7"
  }
 },
 "nbformat": 4,
 "nbformat_minor": 5
}
